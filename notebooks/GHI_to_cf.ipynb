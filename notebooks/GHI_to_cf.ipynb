{
 "cells": [
  {
   "cell_type": "code",
   "execution_count": null,
   "metadata": {},
   "outputs": [],
   "source": [
    "import pandas as pd\n",
    "from matplotlib import pyplot as plt"
   ]
  },
  {
   "cell_type": "code",
   "execution_count": null,
   "metadata": {},
   "outputs": [],
   "source": [
    "INPUT_DATA = \"../data/POWER_Point_Hourly_20111231_20210101_001d7523N_127d9942E_LST.csv\""
   ]
  },
  {
   "cell_type": "code",
   "execution_count": null,
   "metadata": {},
   "outputs": [
    {
     "name": "stdout",
     "output_type": "stream",
     "text": [
      "-BEGIN HEADER-\n",
      "NASA/POWER CERES/MERRA2 Native Resolution Hourly Data \n",
      "Dates (month/day/year): 12/31/2011 through 01/01/2021 \n",
      "Location: Latitude  1.7523   Longitude 127.9942 \n",
      "Elevation from MERRA-2: Average for 0.5 x 0.625 degree lat/lon region = 37.91 meters\n",
      "The value for missing source data that cannot be computed or is outside of the sources availability range: -999 \n",
      "Parameter(s): \n",
      "ALLSKY_SFC_SW_DWN     CERES SYN1deg All Sky Surface Shortwave Downward Irradiance (Wh/m^2) \n",
      "CLRSKY_SFC_SW_DWN     CERES SYN1deg Clear Sky Surface Shortwave Downward Irradiance (Wh/m^2) \n",
      "SZA                   CERES SYN1deg Solar Zenith Angle (Degrees) \n",
      "-END HEADER-\n"
     ]
    }
   ],
   "source": [
    "with open(INPUT_DATA, \"r\") as f:\n",
    "    text = ''\n",
    "    texts = []\n",
    "    nrows_header = 0\n",
    "    while \"-END HEADER-\" not in text:\n",
    "        text = f.readline()\n",
    "        print(text.strip('\\n'))\n",
    "        texts.append(text)\n",
    "        nrows_header += 1"
   ]
  },
  {
   "cell_type": "code",
   "execution_count": null,
   "metadata": {},
   "outputs": [
    {
     "data": {
      "text/html": [
       "<div>\n",
       "<style scoped>\n",
       "    .dataframe tbody tr th:only-of-type {\n",
       "        vertical-align: middle;\n",
       "    }\n",
       "\n",
       "    .dataframe tbody tr th {\n",
       "        vertical-align: top;\n",
       "    }\n",
       "\n",
       "    .dataframe thead th {\n",
       "        text-align: right;\n",
       "    }\n",
       "</style>\n",
       "<table border=\"1\" class=\"dataframe\">\n",
       "  <thead>\n",
       "    <tr style=\"text-align: right;\">\n",
       "      <th></th>\n",
       "      <th>YEAR</th>\n",
       "      <th>MO</th>\n",
       "      <th>DY</th>\n",
       "      <th>HR</th>\n",
       "      <th>ALLSKY_SFC_SW_DWN</th>\n",
       "      <th>CLRSKY_SFC_SW_DWN</th>\n",
       "      <th>SZA</th>\n",
       "    </tr>\n",
       "  </thead>\n",
       "  <tbody>\n",
       "    <tr>\n",
       "      <th>15</th>\n",
       "      <td>2012</td>\n",
       "      <td>1</td>\n",
       "      <td>1</td>\n",
       "      <td>0</td>\n",
       "      <td>0.0</td>\n",
       "      <td>0.0</td>\n",
       "      <td>-999.0</td>\n",
       "    </tr>\n",
       "    <tr>\n",
       "      <th>16</th>\n",
       "      <td>2012</td>\n",
       "      <td>1</td>\n",
       "      <td>1</td>\n",
       "      <td>1</td>\n",
       "      <td>0.0</td>\n",
       "      <td>0.0</td>\n",
       "      <td>-999.0</td>\n",
       "    </tr>\n",
       "    <tr>\n",
       "      <th>17</th>\n",
       "      <td>2012</td>\n",
       "      <td>1</td>\n",
       "      <td>1</td>\n",
       "      <td>2</td>\n",
       "      <td>0.0</td>\n",
       "      <td>0.0</td>\n",
       "      <td>-999.0</td>\n",
       "    </tr>\n",
       "    <tr>\n",
       "      <th>18</th>\n",
       "      <td>2012</td>\n",
       "      <td>1</td>\n",
       "      <td>1</td>\n",
       "      <td>3</td>\n",
       "      <td>0.0</td>\n",
       "      <td>0.0</td>\n",
       "      <td>-999.0</td>\n",
       "    </tr>\n",
       "    <tr>\n",
       "      <th>19</th>\n",
       "      <td>2012</td>\n",
       "      <td>1</td>\n",
       "      <td>1</td>\n",
       "      <td>4</td>\n",
       "      <td>0.0</td>\n",
       "      <td>0.0</td>\n",
       "      <td>-999.0</td>\n",
       "    </tr>\n",
       "  </tbody>\n",
       "</table>\n",
       "</div>"
      ],
      "text/plain": [
       "    YEAR  MO  DY  HR  ALLSKY_SFC_SW_DWN  CLRSKY_SFC_SW_DWN    SZA\n",
       "15  2012   1   1   0                0.0                0.0 -999.0\n",
       "16  2012   1   1   1                0.0                0.0 -999.0\n",
       "17  2012   1   1   2                0.0                0.0 -999.0\n",
       "18  2012   1   1   3                0.0                0.0 -999.0\n",
       "19  2012   1   1   4                0.0                0.0 -999.0"
      ]
     },
     "execution_count": null,
     "metadata": {},
     "output_type": "execute_result"
    }
   ],
   "source": [
    "df = pd.read_csv(\"../data/POWER_Point_Hourly_20111231_20210101_001d7523N_127d9942E_LST.csv\",\n",
    "                 skiprows=nrows_header)\n",
    "\n",
    "for i, v in df['HR'].items():\n",
    "    if v == 23:\n",
    "        break\n",
    "\n",
    "df = df[i+1:i-23]  # slcie to start from 0 and end at 23\n",
    "df.head()"
   ]
  },
  {
   "cell_type": "code",
   "execution_count": null,
   "metadata": {},
   "outputs": [],
   "source": [
    "def get_hourly_solar_capacity_factor(GHI, capacity=260, A=1.63350, r=0.159, miu=0.96):\n",
    "    \"\"\"Get hourly solar capacity factor\n",
    "\n",
    "    Args:\n",
    "        GHI (_type_): Hourly Global Horizontal Irradiation (W / m2).\n",
    "        capacity (_type_): Maximum power output of the installed solar panel (Wp).\n",
    "        A (float, optional): Total solar panel area (m2). Defaults to 1.63350.\n",
    "        r (float, optional): Solar panel efficiency. Defaults to 0.159.\n",
    "        miu (float, optional): Coefficient for losses. Defaults to 0.9.\n",
    "    \"\"\"\n",
    "    return (get_hourly_solar_energy(GHI=GHI, A=A, r=r, miu=miu)\n",
    "            / capacity)\n",
    "\n",
    "def get_hourly_solar_energy(GHI, A=1.63350, r=0.159, miu=0.96):\n",
    "    \"\"\"Get hourly solar capacity factor\n",
    "\n",
    "    Args:\n",
    "        GHI (_type_): Hourly Global Horizontal Irradiation (W / m2).\n",
    "        A (float, optional): Total solar panel area (m2). Defaults to 1.63350.\n",
    "        r (float, optional): Solar panel efficiency. Defaults to 0.159.\n",
    "        miu (float, optional): Coefficient for losses. Defaults to 0.9.\n",
    "    \"\"\"\n",
    "    return A * r * GHI * miu"
   ]
  },
  {
   "cell_type": "code",
   "execution_count": null,
   "metadata": {},
   "outputs": [],
   "source": [
    "pout = get_hourly_solar_energy(df['ALLSKY_SFC_SW_DWN'])"
   ]
  },
  {
   "cell_type": "code",
   "execution_count": null,
   "metadata": {},
   "outputs": [
    {
     "data": {
      "image/png": "[encoded data removed]",
      "text/plain": [
       "<Figure size 432x288 with 1 Axes>"
      ]
     },
     "metadata": {
      "needs_background": "light"
     },
     "output_type": "display_data"
    }
   ],
   "source": [
    "plt.plot(pout.values.reshape(-1, 24).T, 'k-', alpha=0.01)\n",
    "plt.show()"
   ]
  },
  {
   "cell_type": "code",
   "execution_count": null,
   "metadata": {},
   "outputs": [],
   "source": [
    "cf = get_hourly_solar_capacity_factor(df['ALLSKY_SFC_SW_DWN']) "
   ]
  },
  {
   "cell_type": "code",
   "execution_count": null,
   "metadata": {},
   "outputs": [
    {
     "data": {
      "image/png": "[encoded data removed]",
      "text/plain": [
       "<Figure size 432x288 with 1 Axes>"
      ]
     },
     "metadata": {
      "needs_background": "light"
     },
     "output_type": "display_data"
    }
   ],
   "source": [
    "plt.plot(cf.values.reshape(-1, 24).T, 'k-', alpha=0.01)\n",
    "plt.show()"
   ]
  },
  {
   "cell_type": "code",
   "execution_count": null,
   "metadata": {},
   "outputs": [
    {
     "data": {
      "text/html": [
       "<div>\n",
       "<style scoped>\n",
       "    .dataframe tbody tr th:only-of-type {\n",
       "        vertical-align: middle;\n",
       "    }\n",
       "\n",
       "    .dataframe tbody tr th {\n",
       "        vertical-align: top;\n",
       "    }\n",
       "\n",
       "    .dataframe thead th {\n",
       "        text-align: right;\n",
       "    }\n",
       "</style>\n",
       "<table border=\"1\" class=\"dataframe\">\n",
       "  <thead>\n",
       "    <tr style=\"text-align: right;\">\n",
       "      <th></th>\n",
       "      <th>YEAR</th>\n",
       "      <th>MO</th>\n",
       "      <th>DY</th>\n",
       "      <th>HR</th>\n",
       "      <th>ALLSKY_SFC_SW_DWN</th>\n",
       "      <th>CLRSKY_SFC_SW_DWN</th>\n",
       "      <th>SZA</th>\n",
       "      <th>ALLSKY_SFC_CF</th>\n",
       "      <th>ALLSKY_SFC_POUT</th>\n",
       "    </tr>\n",
       "  </thead>\n",
       "  <tbody>\n",
       "    <tr>\n",
       "      <th>15</th>\n",
       "      <td>2012</td>\n",
       "      <td>1</td>\n",
       "      <td>1</td>\n",
       "      <td>0</td>\n",
       "      <td>0.0</td>\n",
       "      <td>0.0</td>\n",
       "      <td>-999.0</td>\n",
       "      <td>0.0</td>\n",
       "      <td>0.0</td>\n",
       "    </tr>\n",
       "    <tr>\n",
       "      <th>16</th>\n",
       "      <td>2012</td>\n",
       "      <td>1</td>\n",
       "      <td>1</td>\n",
       "      <td>1</td>\n",
       "      <td>0.0</td>\n",
       "      <td>0.0</td>\n",
       "      <td>-999.0</td>\n",
       "      <td>0.0</td>\n",
       "      <td>0.0</td>\n",
       "    </tr>\n",
       "    <tr>\n",
       "      <th>17</th>\n",
       "      <td>2012</td>\n",
       "      <td>1</td>\n",
       "      <td>1</td>\n",
       "      <td>2</td>\n",
       "      <td>0.0</td>\n",
       "      <td>0.0</td>\n",
       "      <td>-999.0</td>\n",
       "      <td>0.0</td>\n",
       "      <td>0.0</td>\n",
       "    </tr>\n",
       "    <tr>\n",
       "      <th>18</th>\n",
       "      <td>2012</td>\n",
       "      <td>1</td>\n",
       "      <td>1</td>\n",
       "      <td>3</td>\n",
       "      <td>0.0</td>\n",
       "      <td>0.0</td>\n",
       "      <td>-999.0</td>\n",
       "      <td>0.0</td>\n",
       "      <td>0.0</td>\n",
       "    </tr>\n",
       "    <tr>\n",
       "      <th>19</th>\n",
       "      <td>2012</td>\n",
       "      <td>1</td>\n",
       "      <td>1</td>\n",
       "      <td>4</td>\n",
       "      <td>0.0</td>\n",
       "      <td>0.0</td>\n",
       "      <td>-999.0</td>\n",
       "      <td>0.0</td>\n",
       "      <td>0.0</td>\n",
       "    </tr>\n",
       "  </tbody>\n",
       "</table>\n",
       "</div>"
      ],
      "text/plain": [
       "    YEAR  MO  DY  HR  ALLSKY_SFC_SW_DWN  CLRSKY_SFC_SW_DWN    SZA  \\\n",
       "15  2012   1   1   0                0.0                0.0 -999.0   \n",
       "16  2012   1   1   1                0.0                0.0 -999.0   \n",
       "17  2012   1   1   2                0.0                0.0 -999.0   \n",
       "18  2012   1   1   3                0.0                0.0 -999.0   \n",
       "19  2012   1   1   4                0.0                0.0 -999.0   \n",
       "\n",
       "    ALLSKY_SFC_CF  ALLSKY_SFC_POUT  \n",
       "15            0.0              0.0  \n",
       "16            0.0              0.0  \n",
       "17            0.0              0.0  \n",
       "18            0.0              0.0  \n",
       "19            0.0              0.0  "
      ]
     },
     "execution_count": null,
     "metadata": {},
     "output_type": "execute_result"
    }
   ],
   "source": [
    "df['ALLSKY_SFC_CF'] = cf\n",
    "df['ALLSKY_SFC_POUT'] = pout\n",
    "df.head()"
   ]
  },
  {
   "cell_type": "code",
   "execution_count": null,
   "metadata": {},
   "outputs": [
    {
     "name": "stderr",
     "output_type": "stream",
     "text": [
      "C:\\Users\\muham\\AppData\\Local\\Temp\\ipykernel_1076\\442834128.py:4: FutureWarning: the 'line_terminator'' keyword is deprecated, use 'lineterminator' instead.\n",
      "  df.to_csv(f, index=False, line_terminator='\\n')\n"
     ]
    }
   ],
   "source": [
    "with open(f\"{INPUT_DATA[:-4]}_processed.csv\", 'w') as f:\n",
    "    for text in texts:\n",
    "        f.write(text)\n",
    "    df.to_csv(f, index=False, line_terminator='\\n')"
   ]
  },
  {
   "cell_type": "code",
   "execution_count": null,
   "metadata": {},
   "outputs": [],
   "source": []
  }
 ],
 "metadata": {
  "kernelspec": {
   "display_name": "Python 3.8.10 64-bit",
   "language": "python",
   "name": "python3"
  },
  "language_info": {
   "codemirror_mode": {
    "name": "ipython",
    "version": 3
   },
   "file_extension": ".py",
   "mimetype": "text/x-python",
   "name": "python",
   "nbconvert_exporter": "python",
   "pygments_lexer": "ipython3"
  },
  "vscode": {
   "interpreter": {
    "hash": "7d9fbcc9d36fec826ec7ea63260f41bcb424332a9e727079e8172fbdc4352c28"
   }
  }
 },
 "nbformat": 4,
 "nbformat_minor": 2
}
